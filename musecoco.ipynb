{
  "cells": [
    {
      "cell_type": "markdown",
      "metadata": {
        "colab_type": "text",
        "id": "view-in-github"
      },
      "source": [
        "<a href=\"https://colab.research.google.com/github/FelitaD/musecoco_inference_1B_colab/blob/main/musecoco.ipynb\" target=\"_parent\"><img src=\"https://colab.research.google.com/assets/colab-badge.svg\" alt=\"Open In Colab\"/></a>"
      ]
    },
    {
      "cell_type": "code",
      "execution_count": null,
      "metadata": {
        "colab": {
          "base_uri": "https://localhost:8080/"
        },
        "collapsed": true,
        "id": "rpD23BP-3k_i",
        "outputId": "85405287-4579-4490-d93c-1295517f7d2c"
      },
      "outputs": [],
      "source": [
        "!nvidia-smi"
      ]
    },
    {
      "cell_type": "code",
      "execution_count": null,
      "metadata": {
        "colab": {
          "base_uri": "https://localhost:8080/",
          "height": 204
        },
        "id": "uGOiNMjJrKDx",
        "outputId": "abf75a22-0acd-4d9e-fc2e-57db0091e0c1"
      },
      "outputs": [],
      "source": [
        "!pip install konda"
      ]
    },
    {
      "cell_type": "code",
      "execution_count": null,
      "metadata": {
        "colab": {
          "base_uri": "https://localhost:8080/"
        },
        "id": "aEtznKPQsrX6",
        "outputId": "c7228629-ef7e-41a5-c8ec-08bf3a0388ca"
      },
      "outputs": [],
      "source": [
        "import konda\n",
        "konda.install()"
      ]
    },
    {
      "cell_type": "code",
      "execution_count": null,
      "metadata": {
        "colab": {
          "base_uri": "https://localhost:8080/"
        },
        "collapsed": true,
        "id": "-nFDRLWssyvH",
        "outputId": "d7b7f5b8-13d7-47b0-dcf9-7b430786900b"
      },
      "outputs": [],
      "source": [
        "# Use konda because of python3.9 issue and kernel\n",
        "# (python 3.9 necessary to resolve fairseq error without modifying source code)\n",
        "# https://github.com/tamnguyenvan/konda\n",
        "\n",
        "!konda create -n my_env python=3.9 -y\n",
        "!konda activate my_env\n",
        "!konda list"
      ]
    },
    {
      "cell_type": "code",
      "execution_count": null,
      "metadata": {
        "colab": {
          "base_uri": "https://localhost:8080/"
        },
        "id": "I2SzYuptbqIG",
        "outputId": "97e28e91-6d72-4a6f-8964-4536f40baba7"
      },
      "outputs": [],
      "source": [
        "!konda run \"python3.9 -m pip --version\""
      ]
    },
    {
      "cell_type": "code",
      "execution_count": null,
      "metadata": {
        "colab": {
          "base_uri": "https://localhost:8080/"
        },
        "collapsed": true,
        "id": "9TQHS45kH0jm",
        "outputId": "30c0d7f1-6dc4-4719-a462-102d3526d675"
      },
      "outputs": [],
      "source": [
        "!konda run \"pip install --upgrade pip setuptools wheel\""
      ]
    },
    {
      "cell_type": "code",
      "execution_count": null,
      "metadata": {
        "colab": {
          "base_uri": "https://localhost:8080/"
        },
        "collapsed": true,
        "id": "KUDnN2Ij9qAv",
        "outputId": "919e515d-621f-4f46-d3cf-f7b3ec51d733"
      },
      "outputs": [],
      "source": [
        "!konda run \"pip install --upgrade 'numpy<2.1,>=1.22' cython jedi\""
      ]
    },
    {
      "cell_type": "code",
      "execution_count": null,
      "metadata": {
        "colab": {
          "base_uri": "https://localhost:8080/"
        },
        "collapsed": true,
        "id": "N3Rt4C5IIa8Y",
        "outputId": "774b0d4b-b62f-4125-9522-6aa08db88392"
      },
      "outputs": [],
      "source": [
        "!konda run \"pip install fairseq --no-deps --force-reinstall\""
      ]
    },
    {
      "cell_type": "code",
      "execution_count": null,
      "metadata": {
        "colab": {
          "base_uri": "https://localhost:8080/"
        },
        "collapsed": true,
        "id": "742f7ce1",
        "outputId": "b8e8615a-faf3-4f8e-8cec-f36364c59159"
      },
      "outputs": [],
      "source": [
        "!konda run \"pip install torch torchvision torchaudio --index-url https://download.pytorch.org/whl/cu121\""
      ]
    },
    {
      "cell_type": "code",
      "execution_count": null,
      "metadata": {
        "colab": {
          "base_uri": "https://localhost:8080/"
        },
        "id": "_rH0gYfBdQBn",
        "outputId": "eb95a206-4aa0-4d9c-cf09-bd3ea7231c6e"
      },
      "outputs": [],
      "source": [
        "%cd /content/drive/Othercomputers/My\\ Mac/google_colab/musecoco"
      ]
    },
    {
      "cell_type": "code",
      "execution_count": null,
      "metadata": {
        "colab": {
          "base_uri": "https://localhost:8080/"
        },
        "collapsed": true,
        "id": "o4GutTI4EfiX",
        "outputId": "1027bd4a-f084-4c49-de78-7aff7bcdadd2"
      },
      "outputs": [],
      "source": [
        "!konda run \"pip install -vv -r requirements.txt\""
      ]
    },
    {
      "cell_type": "code",
      "execution_count": null,
      "metadata": {
        "colab": {
          "base_uri": "https://localhost:8080/",
          "height": 53
        },
        "id": "VWsoZ7I3RRtw",
        "outputId": "17f2fb67-542e-4735-feb0-a44fb890552c"
      },
      "outputs": [],
      "source": [
        "from huggingface_hub import hf_hub_download\n",
        "hf_hub_download(repo_id=\"XinXuNLPer/MuseCoco_attribute2music\", filename=\"attribute2music.pt\")"
      ]
    },
    {
      "cell_type": "code",
      "execution_count": null,
      "metadata": {
        "id": "__GjzZDaVupV"
      },
      "outputs": [],
      "source": [
        "!mv \"/root/.cache/huggingface/hub/models--XinXuNLPer--MuseCoco_attribute2music/snapshots/8d9df584e3e09da88601546e7980323221f12644/attribute2music.pt\" \"/content/drive/Othercomputers/My Mac/google_colab/musecoco/2-attribute2music_model/checkpoints/linear_mask-1billion/checkpoint_2_280000.pt\""
      ]
    },
    {
      "cell_type": "code",
      "execution_count": null,
      "metadata": {
        "colab": {
          "base_uri": "https://localhost:8080/"
        },
        "id": "WSAixKGTXZaH",
        "outputId": "853ea792-d76c-4327-c267-bed88a4ff2c8"
      },
      "outputs": [],
      "source": [
        "%cd /content/drive/Othercomputers/My\\ Mac/google_colab/musecoco/2-attribute2music_model"
      ]
    },
    {
      "cell_type": "code",
      "execution_count": null,
      "metadata": {
        "colab": {
          "base_uri": "https://localhost:8080/"
        },
        "collapsed": true,
        "id": "H7tFiVIF37WF",
        "outputId": "6eecf8e4-cd94-48fe-fdf9-b30f901bcb76"
      },
      "outputs": [],
      "source": [
        "!konda run \"pip install -vvv omegaconf hydra-core bitarray sacrebleu cffi\""
      ]
    },
    {
      "cell_type": "code",
      "execution_count": null,
      "metadata": {
        "colab": {
          "base_uri": "https://localhost:8080/"
        },
        "id": "vwH02MKyq_Hy",
        "outputId": "3cd9528c-8b04-4463-8620-7ffc55736b00"
      },
      "outputs": [],
      "source": [
        "!ls -la \"/content/drive/Othercomputers/My Mac/google_colab/musecoco/2-attribute2music_model/checkpoints/linear_mask-1billion/\""
      ]
    },
    {
      "cell_type": "code",
      "execution_count": null,
      "metadata": {
        "colab": {
          "base_uri": "https://localhost:8080/"
        },
        "id": "-6f3sgACXNX-",
        "outputId": "cd5dc550-3cd9-4911-b51c-14f72324a7a8"
      },
      "outputs": [],
      "source": [
        "!konda run \"bash /content/drive/Othercomputers/My\\ Mac/google_colab/musecoco/2-attribute2music_model/interactive_1billion.sh 0 200\""
      ]
    },
    {
      "cell_type": "code",
      "execution_count": null,
      "metadata": {
        "colab": {
          "base_uri": "https://localhost:8080/"
        },
        "collapsed": true,
        "id": "ATU_1wnfTuqE",
        "outputId": "ee22a372-702f-4fcd-8377-0a9d2631e57b"
      },
      "outputs": [],
      "source": [
        "!git add interactive_1billion.sh\n",
        "!git commit -m 'Update script to adapt paths'"
      ]
    },
    {
      "cell_type": "code",
      "execution_count": null,
      "metadata": {
        "colab": {
          "base_uri": "https://localhost:8080/"
        },
        "id": "5phpys5Hsdpo",
        "outputId": "36caa9b4-1262-40be-c05c-36eb227c76d7"
      },
      "outputs": [],
      "source": [
        "!ls -la \"/root/.cache/huggingface/hub/models--XinXuNLPer--MuseCoco_attribute2music/snapshots/8d9df584e3e09da88601546e7980323221f12644/attribute2music.pt\""
      ]
    },
    {
      "cell_type": "markdown",
      "metadata": {
        "id": "AcQOUAH0Cwp6"
      },
      "source": []
    }
  ],
  "metadata": {
    "accelerator": "GPU",
    "colab": {
      "authorship_tag": "ABX9TyO5DHGC5eTact9y7W6q9vvM",
      "gpuType": "T4",
      "include_colab_link": true,
      "mount_file_id": "1T3emwV9xGuhv1Mndkpb7-mBgqyFdFcnd",
      "provenance": []
    },
    "kernelspec": {
      "display_name": "Python 3",
      "name": "python3"
    },
    "language_info": {
      "name": "python"
    }
  },
  "nbformat": 4,
  "nbformat_minor": 0
}
